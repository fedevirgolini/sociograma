{
 "cells": [
  {
   "cell_type": "markdown",
   "metadata": {},
   "source": [
    "# Ejemplo de clustering utilizando spectral method"
   ]
  },
  {
   "cell_type": "code",
   "execution_count": 6,
   "metadata": {},
   "outputs": [],
   "source": [
    "import numpy as np\n",
    "\n",
    "# Ejemplo de una matriz de afinidad para un grafo ponderado con 5 nodos\n",
    "W = np.array([[0, 2, 0, 1, 0],\n",
    "              [2, 0, 3, 0, 0],\n",
    "              [0, 3, 0, 4, 5],\n",
    "              [1, 0, 4, 0, 6],\n",
    "              [0, 0, 5, 6, 0]])"
   ]
  },
  {
   "cell_type": "code",
   "execution_count": 7,
   "metadata": {},
   "outputs": [],
   "source": [
    "from scipy.sparse.csgraph import laplacian\n",
    "\n",
    "# Construcción de la matriz Laplaciana normalizada\n",
    "L = laplacian(W, normed=True)"
   ]
  },
  {
   "cell_type": "code",
   "execution_count": 53,
   "metadata": {},
   "outputs": [],
   "source": [
    "from scipy.linalg import eigh\n",
    "\n",
    "# Calcular los k menores eigenvectores del Laplaciano\n",
    "k = 2  # Número de clusters\n",
    "eigenvalues, eigenvectors = eigh(L)\n",
    "V = eigenvectors[:, :k]  # Tomamos los primeros k eigenvectores"
   ]
  },
  {
   "cell_type": "code",
   "execution_count": 64,
   "metadata": {},
   "outputs": [
    {
     "name": "stdout",
     "output_type": "stream",
     "text": [
      "Labels de los clusters: [1 1 0 0 0]\n"
     ]
    }
   ],
   "source": [
    "from sklearn.cluster import KMeans\n",
    "\n",
    "# Aplicar k-means en los primeros k eigenvectores\n",
    "kmeans = KMeans(n_clusters=k)\n",
    "kmeans.fit(V)\n",
    "labels = kmeans.labels_\n",
    "\n",
    "# Imprimir las etiquetas de cada punto\n",
    "print(\"Labels de los clusters:\", labels)"
   ]
  }
 ],
 "metadata": {
  "kernelspec": {
   "display_name": "env",
   "language": "python",
   "name": "python3"
  },
  "language_info": {
   "codemirror_mode": {
    "name": "ipython",
    "version": 3
   },
   "file_extension": ".py",
   "mimetype": "text/x-python",
   "name": "python",
   "nbconvert_exporter": "python",
   "pygments_lexer": "ipython3",
   "version": "3.12.3"
  }
 },
 "nbformat": 4,
 "nbformat_minor": 2
}
